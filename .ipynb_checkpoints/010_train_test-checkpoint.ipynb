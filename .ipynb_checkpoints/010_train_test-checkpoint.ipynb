{
 "cells": [
  {
   "cell_type": "code",
   "execution_count": 14,
   "metadata": {},
   "outputs": [],
   "source": [
    "import torch\n",
    "import torch.utils.data\n",
    "from torch import nn, optim\n",
    "# from torch.nn import functional as F\n",
    "from torchvision import datasets, transforms\n",
    "from torchvision.utils import save_image\n",
    "from tqdm import tqdm\n",
    "\n",
    "# from sklearn.preprocessing import LabelBinarizer\n",
    "# from sklearn.preprocessing import OneHotEncoder\n",
    "# from sklearn.model_selection import train_test_split\n",
    "\n",
    "import numpy as np\n",
    "import matplotlib.pyplot as plt\n",
    "import pandas as pd\n",
    "from pathlib import Path\n",
    "\n",
    "from model.core import VAE\n",
    "from model.module_utils import *\n",
    "from model.vae_utility import *\n",
    "from dataset.loader import *\n",
    "from config import *\n",
    "\n",
    "import random as rn\n",
    "from pathlib import Path\n",
    "\n",
    "np.random.seed(42)\n",
    "# The below is necessary for starting core Python generated random numbers\n",
    "# in a well-defined state.\n",
    "rn.seed(12345)"
   ]
  },
  {
   "cell_type": "code",
   "execution_count": 2,
   "metadata": {},
   "outputs": [],
   "source": [
    "trainx, valx, ohe = get_train_val(0.2, cols, cat_cols, preprocessing = 'log')"
   ]
  },
  {
   "cell_type": "code",
   "execution_count": 3,
   "metadata": {},
   "outputs": [],
   "source": [
    "testx, testy, orig_labels= get_test(cols, cat_cols, ohe, preprocessing='log')"
   ]
  },
  {
   "cell_type": "code",
   "execution_count": 4,
   "metadata": {},
   "outputs": [],
   "source": [
    "batch_size = 400\n",
    "\n",
    "train_loader = torch.utils.data.DataLoader(trainx, batch_size=batch_size\\\n",
    "                                           , shuffle=True, num_workers=8)\n",
    "val_loader = torch.utils.data.DataLoader(valx, batch_size=batch_size\\\n",
    "                                         , shuffle=True, num_workers=8)"
   ]
  },
  {
   "cell_type": "code",
   "execution_count": 5,
   "metadata": {},
   "outputs": [],
   "source": [
    "cuda = torch.cuda.is_available()\n",
    "device = torch.device(\"cuda\" if cuda else \"cpu\")"
   ]
  },
  {
   "cell_type": "code",
   "execution_count": 82,
   "metadata": {},
   "outputs": [
    {
     "data": {
      "text/plain": [
       "126"
      ]
     },
     "execution_count": 82,
     "metadata": {},
     "output_type": "execute_result"
    }
   ],
   "source": [
    "data[0].shape[0]"
   ]
  },
  {
   "cell_type": "code",
   "execution_count": 6,
   "metadata": {},
   "outputs": [],
   "source": [
    "original_dim = trainx.shape[1]\n",
    "intermediate_dim = 20\n",
    "latent_dim = 4\n",
    "\n",
    "act_fun = 'relu'\n",
    "# kernel_max_norm = 1000\n",
    "weight_KL_loss = 0.8\n",
    "\n",
    "Nf_lognorm = 34\n",
    "Nf_binomial = original_dim-Nf_lognorm"
   ]
  },
  {
   "cell_type": "code",
   "execution_count": 54,
   "metadata": {},
   "outputs": [],
   "source": [
    "input_size = original_dim  # size of each input\n",
    "hidden_size = intermediate_dim  # hidden dimension\n",
    "latent_size = latent_dim # latent vector dimension\n",
    "\n",
    "trainloader = torch.utils.data.DataLoader(trainx, batch_size=batch_size, shuffle=True)\n",
    "valloader = torch.utils.data.DataLoader(valx, batch_size=batch_size, shuffle=True)"
   ]
  },
  {
   "cell_type": "code",
   "execution_count": 49,
   "metadata": {},
   "outputs": [],
   "source": [
    "vae = VAE(input_size, hidden_size\n",
    "          , latent_dim, Nf_lognorm, Nf_binomial).to(device)"
   ]
  },
  {
   "cell_type": "code",
   "execution_count": 50,
   "metadata": {},
   "outputs": [],
   "source": [
    "optimizer = optim.Adam(vae.parameters(), lr=0.001)"
   ]
  },
  {
   "cell_type": "code",
   "execution_count": 51,
   "metadata": {},
   "outputs": [],
   "source": [
    "epochs = 20"
   ]
  },
  {
   "cell_type": "code",
   "execution_count": 52,
   "metadata": {},
   "outputs": [],
   "source": [
    "save_model_path = Path('model_results/')\n",
    "model_name = 'vae_nls_kdd.h5'\n",
    "if not(save_model_path.exists()):\n",
    "    print('creating path')\n",
    "    os.makedirs(save_model_path)"
   ]
  },
  {
   "cell_type": "code",
   "execution_count": 60,
   "metadata": {
    "collapsed": true,
    "jupyter": {
     "outputs_hidden": true
    }
   },
   "outputs": [
    {
     "name": "stdout",
     "output_type": "stream",
     "text": [
      "Loss:\n",
      "-13.188192367553711\n",
      "Loss:\n",
      "-13.259650230407715\n",
      "Loss:\n",
      "-12.853959083557129\n",
      "Loss:\n",
      "-12.943358421325684\n",
      "Loss:\n",
      "-12.199614524841309\n",
      "Loss:\n",
      "-13.681341171264648\n",
      "Loss:\n",
      "-13.282419204711914\n",
      "Loss:\n",
      "-13.378366470336914\n",
      "Loss:\n",
      "-14.415117263793945\n",
      "Loss:\n",
      "-13.302459716796875\n",
      "Loss:\n",
      "-13.679447174072266\n",
      "Loss:\n",
      "-12.949419021606445\n",
      "Loss:\n",
      "-13.68109130859375\n",
      "Loss:\n",
      "-13.187186241149902\n",
      "val_loss improved from 10000000000000000 to -13.254806518554688, saving model to model_results\n",
      "Loss:\n",
      "-13.527860641479492\n",
      "Loss:\n",
      "-13.29416275024414\n",
      "Loss:\n",
      "-12.969101905822754\n",
      "Loss:\n",
      "-14.226609230041504\n",
      "Loss:\n",
      "-12.703136444091797\n",
      "Loss:\n",
      "-12.999361038208008\n",
      "Loss:\n",
      "-13.603246688842773\n",
      "Loss:\n",
      "-12.522589683532715\n",
      "Loss:\n",
      "-13.588000297546387\n",
      "Loss:\n",
      "-13.205708503723145\n",
      "Loss:\n",
      "-13.492297172546387\n",
      "Loss:\n",
      "-13.312751770019531\n",
      "Loss:\n",
      "-13.190733909606934\n",
      "Loss:\n",
      "-13.272346496582031\n",
      "val_loss improved from -13.254806518554688 to -13.604610443115234, saving model to model_results\n",
      "Loss:\n",
      "-13.916025161743164\n",
      "Loss:\n",
      "-13.710904121398926\n",
      "Loss:\n",
      "-13.735566139221191\n",
      "Loss:\n",
      "-13.419286727905273\n",
      "Loss:\n",
      "-13.583597183227539\n",
      "Loss:\n",
      "-12.758049011230469\n",
      "Loss:\n",
      "-13.940305709838867\n",
      "Loss:\n",
      "-12.950075149536133\n",
      "Loss:\n",
      "-13.887907981872559\n",
      "Loss:\n",
      "-13.599328994750977\n",
      "Loss:\n",
      "-12.70930290222168\n",
      "Loss:\n",
      "-13.27623176574707\n",
      "Loss:\n",
      "-13.878917694091797\n",
      "Loss:\n",
      "-13.167019844055176\n",
      "Loss:\n",
      "-13.600878715515137\n",
      "Loss:\n",
      "-13.102319717407227\n",
      "Loss:\n",
      "-12.611919403076172\n",
      "Loss:\n",
      "-13.071399688720703\n",
      "Loss:\n",
      "-13.316068649291992\n",
      "Loss:\n",
      "-13.914531707763672\n",
      "Loss:\n",
      "-13.620674133300781\n",
      "Loss:\n",
      "-12.887908935546875\n",
      "Loss:\n",
      "-13.932668685913086\n",
      "Loss:\n",
      "-13.229215621948242\n",
      "Loss:\n",
      "-12.693201065063477\n",
      "Loss:\n",
      "-14.050415992736816\n",
      "Loss:\n",
      "-13.901196479797363\n",
      "Loss:\n",
      "-13.90587329864502\n",
      "Loss:\n",
      "-13.81623363494873\n",
      "Loss:\n",
      "-13.066056251525879\n",
      "Loss:\n",
      "-14.05896282196045\n",
      "Loss:\n",
      "-12.990878105163574\n",
      "Loss:\n",
      "-13.541891098022461\n",
      "Loss:\n",
      "-13.341580390930176\n",
      "Loss:\n",
      "-13.344525337219238\n",
      "Loss:\n",
      "-13.239587783813477\n",
      "Loss:\n",
      "-13.295225143432617\n",
      "Loss:\n",
      "-13.232170104980469\n",
      "Loss:\n",
      "-13.86288070678711\n",
      "Loss:\n",
      "-13.6533784866333\n",
      "Loss:\n",
      "-13.639452934265137\n",
      "Loss:\n",
      "-13.004594802856445\n",
      "val_loss improved from -13.604610443115234 to -13.77747917175293, saving model to model_results\n",
      "Loss:\n",
      "-13.978588104248047\n",
      "Loss:\n",
      "-14.470895767211914\n",
      "Loss:\n",
      "-12.990407943725586\n",
      "Loss:\n",
      "-13.642303466796875\n",
      "Loss:\n",
      "-13.580650329589844\n",
      "Loss:\n",
      "-12.697464942932129\n",
      "Loss:\n",
      "-13.850276947021484\n",
      "Loss:\n",
      "-12.962600708007812\n",
      "Loss:\n",
      "-12.409588813781738\n",
      "Loss:\n",
      "-13.942327499389648\n",
      "Loss:\n",
      "-13.332405090332031\n",
      "Loss:\n",
      "-13.041032791137695\n",
      "Loss:\n",
      "-12.842726707458496\n",
      "Loss:\n",
      "-13.422689437866211\n",
      "Loss:\n",
      "-13.13354206085205\n",
      "Loss:\n",
      "-14.215685844421387\n",
      "Loss:\n",
      "-14.543017387390137\n",
      "Loss:\n",
      "-13.360264778137207\n",
      "Loss:\n",
      "-13.51657485961914\n",
      "Loss:\n",
      "-13.48561954498291\n",
      "Loss:\n",
      "-14.072553634643555\n",
      "Loss:\n",
      "-13.260993957519531\n",
      "Loss:\n",
      "-13.478301048278809\n",
      "Loss:\n",
      "-13.155265808105469\n",
      "Loss:\n",
      "-13.88001823425293\n",
      "Loss:\n",
      "-13.656475067138672\n",
      "Loss:\n",
      "-13.532045364379883\n",
      "Loss:\n",
      "-12.445956230163574\n",
      "Loss:\n",
      "-13.280851364135742\n",
      "Loss:\n",
      "-15.075998306274414\n",
      "Loss:\n",
      "-13.88632869720459\n",
      "Loss:\n",
      "-13.318782806396484\n",
      "Loss:\n",
      "-13.293634414672852\n",
      "Loss:\n",
      "-13.085275650024414\n",
      "Loss:\n",
      "-12.557014465332031\n",
      "Loss:\n",
      "-13.873139381408691\n",
      "Loss:\n",
      "-13.56763744354248\n",
      "Loss:\n",
      "-12.983717918395996\n",
      "Loss:\n",
      "-13.483146667480469\n",
      "Loss:\n",
      "-14.109832763671875\n",
      "Loss:\n",
      "-13.589354515075684\n",
      "Loss:\n",
      "-13.528423309326172\n",
      "val_loss improved from -13.77747917175293 to -13.842530250549316, saving model to model_results\n",
      "Loss:\n",
      "-14.452312469482422\n",
      "Loss:\n",
      "-13.604804039001465\n",
      "Loss:\n",
      "-14.197662353515625\n",
      "Loss:\n",
      "-14.490297317504883\n",
      "Loss:\n",
      "-14.131513595581055\n",
      "Loss:\n",
      "-13.989468574523926\n",
      "Loss:\n",
      "-13.774273872375488\n",
      "Loss:\n",
      "-14.165197372436523\n",
      "Loss:\n",
      "-13.916205406188965\n"
     ]
    },
    {
     "ename": "KeyboardInterrupt",
     "evalue": "",
     "output_type": "error",
     "traceback": [
      "\u001b[0;31m---------------------------------------------------------------------------\u001b[0m",
      "\u001b[0;31mKeyboardInterrupt\u001b[0m                         Traceback (most recent call last)",
      "\u001b[0;32m<ipython-input-60-07cb58f80e41>\u001b[0m in \u001b[0;36m<module>\u001b[0;34m\u001b[0m\n\u001b[1;32m      9\u001b[0m         \u001b[0mdata\u001b[0m \u001b[0;34m=\u001b[0m \u001b[0;34m(\u001b[0m\u001b[0mdata\u001b[0m\u001b[0;34m.\u001b[0m\u001b[0mtype\u001b[0m\u001b[0;34m(\u001b[0m\u001b[0mtorch\u001b[0m\u001b[0;34m.\u001b[0m\u001b[0mFloatTensor\u001b[0m\u001b[0;34m)\u001b[0m\u001b[0;34m)\u001b[0m\u001b[0;34m.\u001b[0m\u001b[0mto\u001b[0m\u001b[0;34m(\u001b[0m\u001b[0mdevice\u001b[0m\u001b[0;34m)\u001b[0m\u001b[0;34m\u001b[0m\u001b[0;34m\u001b[0m\u001b[0m\n\u001b[1;32m     10\u001b[0m         \u001b[0moptimizer\u001b[0m\u001b[0;34m.\u001b[0m\u001b[0mzero_grad\u001b[0m\u001b[0;34m(\u001b[0m\u001b[0;34m)\u001b[0m\u001b[0;34m\u001b[0m\u001b[0;34m\u001b[0m\u001b[0m\n\u001b[0;32m---> 11\u001b[0;31m         \u001b[0mpars\u001b[0m\u001b[0;34m,\u001b[0m \u001b[0mmu\u001b[0m\u001b[0;34m,\u001b[0m \u001b[0msigma\u001b[0m \u001b[0;34m=\u001b[0m \u001b[0mvae\u001b[0m\u001b[0;34m(\u001b[0m\u001b[0mdata\u001b[0m\u001b[0;34m)\u001b[0m\u001b[0;34m\u001b[0m\u001b[0;34m\u001b[0m\u001b[0m\n\u001b[0m\u001b[1;32m     12\u001b[0m \u001b[0;34m\u001b[0m\u001b[0m\n\u001b[1;32m     13\u001b[0m         recon_loss = loss_function(data, pars, Nf_lognorm,\n",
      "\u001b[0;32m~/anaconda3/envs/exotica_ray/lib/python3.6/site-packages/torch/nn/modules/module.py\u001b[0m in \u001b[0;36m__call__\u001b[0;34m(self, *input, **kwargs)\u001b[0m\n\u001b[1;32m    539\u001b[0m             \u001b[0mresult\u001b[0m \u001b[0;34m=\u001b[0m \u001b[0mself\u001b[0m\u001b[0;34m.\u001b[0m\u001b[0m_slow_forward\u001b[0m\u001b[0;34m(\u001b[0m\u001b[0;34m*\u001b[0m\u001b[0minput\u001b[0m\u001b[0;34m,\u001b[0m \u001b[0;34m**\u001b[0m\u001b[0mkwargs\u001b[0m\u001b[0;34m)\u001b[0m\u001b[0;34m\u001b[0m\u001b[0;34m\u001b[0m\u001b[0m\n\u001b[1;32m    540\u001b[0m         \u001b[0;32melse\u001b[0m\u001b[0;34m:\u001b[0m\u001b[0;34m\u001b[0m\u001b[0;34m\u001b[0m\u001b[0m\n\u001b[0;32m--> 541\u001b[0;31m             \u001b[0mresult\u001b[0m \u001b[0;34m=\u001b[0m \u001b[0mself\u001b[0m\u001b[0;34m.\u001b[0m\u001b[0mforward\u001b[0m\u001b[0;34m(\u001b[0m\u001b[0;34m*\u001b[0m\u001b[0minput\u001b[0m\u001b[0;34m,\u001b[0m \u001b[0;34m**\u001b[0m\u001b[0mkwargs\u001b[0m\u001b[0;34m)\u001b[0m\u001b[0;34m\u001b[0m\u001b[0;34m\u001b[0m\u001b[0m\n\u001b[0m\u001b[1;32m    542\u001b[0m         \u001b[0;32mfor\u001b[0m \u001b[0mhook\u001b[0m \u001b[0;32min\u001b[0m \u001b[0mself\u001b[0m\u001b[0;34m.\u001b[0m\u001b[0m_forward_hooks\u001b[0m\u001b[0;34m.\u001b[0m\u001b[0mvalues\u001b[0m\u001b[0;34m(\u001b[0m\u001b[0;34m)\u001b[0m\u001b[0;34m:\u001b[0m\u001b[0;34m\u001b[0m\u001b[0;34m\u001b[0m\u001b[0m\n\u001b[1;32m    543\u001b[0m             \u001b[0mhook_result\u001b[0m \u001b[0;34m=\u001b[0m \u001b[0mhook\u001b[0m\u001b[0;34m(\u001b[0m\u001b[0mself\u001b[0m\u001b[0;34m,\u001b[0m \u001b[0minput\u001b[0m\u001b[0;34m,\u001b[0m \u001b[0mresult\u001b[0m\u001b[0;34m)\u001b[0m\u001b[0;34m\u001b[0m\u001b[0;34m\u001b[0m\u001b[0m\n",
      "\u001b[0;32m~/large_storage/documenti/1_Programming_Languages/Python/DEV_Python/nsl-kdd-ad/model/core.py\u001b[0m in \u001b[0;36mforward\u001b[0;34m(self, x)\u001b[0m\n\u001b[1;32m     54\u001b[0m         \u001b[0mz\u001b[0m \u001b[0;34m=\u001b[0m \u001b[0mself\u001b[0m\u001b[0;34m.\u001b[0m\u001b[0msample\u001b[0m\u001b[0;34m(\u001b[0m\u001b[0mmu\u001b[0m\u001b[0;34m,\u001b[0m \u001b[0msigma\u001b[0m\u001b[0;34m)\u001b[0m\u001b[0;34m\u001b[0m\u001b[0;34m\u001b[0m\u001b[0m\n\u001b[1;32m     55\u001b[0m \u001b[0;34m\u001b[0m\u001b[0m\n\u001b[0;32m---> 56\u001b[0;31m         \u001b[0;32mreturn\u001b[0m \u001b[0mself\u001b[0m\u001b[0;34m.\u001b[0m\u001b[0mdecode\u001b[0m\u001b[0;34m(\u001b[0m\u001b[0mz\u001b[0m\u001b[0;34m)\u001b[0m\u001b[0;34m,\u001b[0m \u001b[0mmu\u001b[0m\u001b[0;34m,\u001b[0m \u001b[0msigma\u001b[0m\u001b[0;34m\u001b[0m\u001b[0;34m\u001b[0m\u001b[0m\n\u001b[0m",
      "\u001b[0;32m~/large_storage/documenti/1_Programming_Languages/Python/DEV_Python/nsl-kdd-ad/model/core.py\u001b[0m in \u001b[0;36mdecode\u001b[0;34m(self, z)\u001b[0m\n\u001b[1;32m     47\u001b[0m         \u001b[0mpar2\u001b[0m \u001b[0;34m=\u001b[0m \u001b[0mself\u001b[0m\u001b[0;34m.\u001b[0m\u001b[0mpar2\u001b[0m\u001b[0;34m(\u001b[0m\u001b[0md\u001b[0m\u001b[0;34m)\u001b[0m\u001b[0;34m\u001b[0m\u001b[0;34m\u001b[0m\u001b[0m\n\u001b[1;32m     48\u001b[0m         \u001b[0mpar3\u001b[0m \u001b[0;34m=\u001b[0m \u001b[0mself\u001b[0m\u001b[0;34m.\u001b[0m\u001b[0mpar3\u001b[0m\u001b[0;34m(\u001b[0m\u001b[0md\u001b[0m\u001b[0;34m)\u001b[0m\u001b[0;34m\u001b[0m\u001b[0;34m\u001b[0m\u001b[0m\n\u001b[0;32m---> 49\u001b[0;31m         \u001b[0;32mreturn\u001b[0m \u001b[0mself\u001b[0m\u001b[0;34m.\u001b[0m\u001b[0mpar1\u001b[0m\u001b[0;34m(\u001b[0m\u001b[0md\u001b[0m\u001b[0;34m)\u001b[0m\u001b[0;34m,\u001b[0m \u001b[0mself\u001b[0m\u001b[0;34m.\u001b[0m\u001b[0mact2\u001b[0m\u001b[0;34m(\u001b[0m\u001b[0mpar2\u001b[0m\u001b[0;34m)\u001b[0m\u001b[0;34m,\u001b[0m \u001b[0mself\u001b[0m\u001b[0;34m.\u001b[0m\u001b[0mact3\u001b[0m\u001b[0;34m(\u001b[0m\u001b[0mpar3\u001b[0m\u001b[0;34m)\u001b[0m\u001b[0;34m\u001b[0m\u001b[0;34m\u001b[0m\u001b[0m\n\u001b[0m\u001b[1;32m     50\u001b[0m \u001b[0;34m\u001b[0m\u001b[0m\n\u001b[1;32m     51\u001b[0m     \u001b[0;32mdef\u001b[0m \u001b[0mforward\u001b[0m\u001b[0;34m(\u001b[0m\u001b[0mself\u001b[0m\u001b[0;34m,\u001b[0m \u001b[0mx\u001b[0m\u001b[0;34m)\u001b[0m\u001b[0;34m:\u001b[0m\u001b[0;34m\u001b[0m\u001b[0;34m\u001b[0m\u001b[0m\n",
      "\u001b[0;32m~/anaconda3/envs/exotica_ray/lib/python3.6/site-packages/torch/nn/modules/module.py\u001b[0m in \u001b[0;36m__call__\u001b[0;34m(self, *input, **kwargs)\u001b[0m\n\u001b[1;32m    539\u001b[0m             \u001b[0mresult\u001b[0m \u001b[0;34m=\u001b[0m \u001b[0mself\u001b[0m\u001b[0;34m.\u001b[0m\u001b[0m_slow_forward\u001b[0m\u001b[0;34m(\u001b[0m\u001b[0;34m*\u001b[0m\u001b[0minput\u001b[0m\u001b[0;34m,\u001b[0m \u001b[0;34m**\u001b[0m\u001b[0mkwargs\u001b[0m\u001b[0;34m)\u001b[0m\u001b[0;34m\u001b[0m\u001b[0;34m\u001b[0m\u001b[0m\n\u001b[1;32m    540\u001b[0m         \u001b[0;32melse\u001b[0m\u001b[0;34m:\u001b[0m\u001b[0;34m\u001b[0m\u001b[0;34m\u001b[0m\u001b[0m\n\u001b[0;32m--> 541\u001b[0;31m             \u001b[0mresult\u001b[0m \u001b[0;34m=\u001b[0m \u001b[0mself\u001b[0m\u001b[0;34m.\u001b[0m\u001b[0mforward\u001b[0m\u001b[0;34m(\u001b[0m\u001b[0;34m*\u001b[0m\u001b[0minput\u001b[0m\u001b[0;34m,\u001b[0m \u001b[0;34m**\u001b[0m\u001b[0mkwargs\u001b[0m\u001b[0;34m)\u001b[0m\u001b[0;34m\u001b[0m\u001b[0;34m\u001b[0m\u001b[0m\n\u001b[0m\u001b[1;32m    542\u001b[0m         \u001b[0;32mfor\u001b[0m \u001b[0mhook\u001b[0m \u001b[0;32min\u001b[0m \u001b[0mself\u001b[0m\u001b[0;34m.\u001b[0m\u001b[0m_forward_hooks\u001b[0m\u001b[0;34m.\u001b[0m\u001b[0mvalues\u001b[0m\u001b[0;34m(\u001b[0m\u001b[0;34m)\u001b[0m\u001b[0;34m:\u001b[0m\u001b[0;34m\u001b[0m\u001b[0;34m\u001b[0m\u001b[0m\n\u001b[1;32m    543\u001b[0m             \u001b[0mhook_result\u001b[0m \u001b[0;34m=\u001b[0m \u001b[0mhook\u001b[0m\u001b[0;34m(\u001b[0m\u001b[0mself\u001b[0m\u001b[0;34m,\u001b[0m \u001b[0minput\u001b[0m\u001b[0;34m,\u001b[0m \u001b[0mresult\u001b[0m\u001b[0;34m)\u001b[0m\u001b[0;34m\u001b[0m\u001b[0;34m\u001b[0m\u001b[0m\n",
      "\u001b[0;32m~/large_storage/documenti/1_Programming_Languages/Python/DEV_Python/nsl-kdd-ad/model/module_utils.py\u001b[0m in \u001b[0;36mforward\u001b[0;34m(self, x)\u001b[0m\n\u001b[1;32m     11\u001b[0m     \u001b[0;32mdef\u001b[0m \u001b[0mforward\u001b[0m\u001b[0;34m(\u001b[0m\u001b[0mself\u001b[0m\u001b[0;34m,\u001b[0m \u001b[0mx\u001b[0m\u001b[0;34m)\u001b[0m\u001b[0;34m:\u001b[0m\u001b[0;34m\u001b[0m\u001b[0;34m\u001b[0m\u001b[0m\n\u001b[1;32m     12\u001b[0m         \u001b[0;32mreturn\u001b[0m \u001b[0;36m1.\u001b[0m \u001b[0;34m+\u001b[0m \u001b[0mself\u001b[0m\u001b[0;34m.\u001b[0m\u001b[0mmin_value\u001b[0m\u001b[0;31m \u001b[0m\u001b[0;31m\\\u001b[0m\u001b[0;34m\u001b[0m\u001b[0;34m\u001b[0m\u001b[0m\n\u001b[0;32m---> 13\u001b[0;31m             \u001b[0;34m+\u001b[0m \u001b[0mtorch\u001b[0m\u001b[0;34m.\u001b[0m\u001b[0mwhere\u001b[0m\u001b[0;34m(\u001b[0m\u001b[0mtorch\u001b[0m\u001b[0;34m.\u001b[0m\u001b[0mgt\u001b[0m\u001b[0;34m(\u001b[0m\u001b[0mx\u001b[0m\u001b[0;34m,\u001b[0m \u001b[0;36m0\u001b[0m\u001b[0;34m)\u001b[0m\u001b[0;34m,\u001b[0m \u001b[0mx\u001b[0m\u001b[0;34m,\u001b[0m \u001b[0mtorch\u001b[0m\u001b[0;34m.\u001b[0m\u001b[0mdiv\u001b[0m\u001b[0;34m(\u001b[0m\u001b[0mx\u001b[0m\u001b[0;34m,\u001b[0m \u001b[0mtorch\u001b[0m\u001b[0;34m.\u001b[0m\u001b[0msqrt\u001b[0m\u001b[0;34m(\u001b[0m\u001b[0;36m1\u001b[0m\u001b[0;34m+\u001b[0m\u001b[0;34m(\u001b[0m\u001b[0mx\u001b[0m\u001b[0;34m*\u001b[0m\u001b[0mx\u001b[0m\u001b[0;34m)\u001b[0m  \u001b[0;34m)\u001b[0m\u001b[0;34m)\u001b[0m\u001b[0;34m)\u001b[0m\u001b[0;34m\u001b[0m\u001b[0;34m\u001b[0m\u001b[0m\n\u001b[0m\u001b[1;32m     14\u001b[0m \u001b[0;34m\u001b[0m\u001b[0m\n\u001b[1;32m     15\u001b[0m \u001b[0;32mclass\u001b[0m \u001b[0mClippedTanh\u001b[0m\u001b[0;34m(\u001b[0m\u001b[0mnn\u001b[0m\u001b[0;34m.\u001b[0m\u001b[0mModule\u001b[0m\u001b[0;34m)\u001b[0m\u001b[0;34m:\u001b[0m\u001b[0;34m\u001b[0m\u001b[0;34m\u001b[0m\u001b[0m\n",
      "\u001b[0;31mKeyboardInterrupt\u001b[0m: "
     ]
    }
   ],
   "source": [
    "\"\"\"\n",
    "Set the model to the training mode first and train\n",
    "\"\"\"\n",
    "vae.train()\n",
    "train_loss = []\n",
    "val_loss = 10**16\n",
    "for epoch in range(epochs):\n",
    "    for i, data in enumerate(trainloader):\n",
    "        data = (data.type(torch.FloatTensor)).to(device)\n",
    "        optimizer.zero_grad()\n",
    "        pars, mu, sigma = vae(data)\n",
    "\n",
    "        recon_loss = loss_function(data, pars, Nf_lognorm,\n",
    "                                  Nf_binomial).mean()\n",
    "    \n",
    "        KLD = KL_loss_forVAE(mu,sigma).mean()\n",
    "        loss = recon_loss + weight_KL_loss*KLD  # the mean of KL is added to the mean of MSE\n",
    "        loss.backward()\n",
    "        train_loss.append(loss.item())\n",
    "        optimizer.step()\n",
    "\n",
    "        if i % 10 == 0:\n",
    "            print(\"Loss:\")\n",
    "#             print(loss.item()/len(images))\n",
    "            print(loss.item())\n",
    "\n",
    "# plt.plot(train_loss)\n",
    "# plt.show()\n",
    "\n",
    "    \"\"\"\n",
    "    Set the model to the evaluation mode. This is important otherwise you will get inconsistent results. Then load data from the test set.\n",
    "    \"\"\"\n",
    "    vae.eval()\n",
    "    vectors = []\n",
    "    with torch.no_grad():\n",
    "        for i, data in enumerate(valloader):\n",
    "            data = (data.type(torch.FloatTensor)).to(device)\n",
    "            pars, mu, sigma = vae(data)\n",
    "\n",
    "            recon_loss = loss_function(data, pars, Nf_lognorm,\n",
    "                                      Nf_binomial).mean()\n",
    "\n",
    "            KLD = KL_loss_forVAE(mu,sigma).mean()\n",
    "            loss += recon_loss + weight_KL_loss*KLD\n",
    "        \n",
    "        loss = loss / len(valloader)\n",
    "        if loss < val_loss:\n",
    "            print('val_loss improved from {} to {}, saving model to {}'\\\n",
    "                  .format(val_loss, loss, save_model_path))\n",
    "            torch.save(vae.state_dict(), save_model_path / model_name)\n",
    "            val_loss = loss"
   ]
  },
  {
   "cell_type": "code",
   "execution_count": 20,
   "metadata": {},
   "outputs": [],
   "source": [
    "# testloader = torch.utils.data.DataLoader(valx, batch_size=1, shuffle=True)"
   ]
  },
  {
   "cell_type": "code",
   "execution_count": 61,
   "metadata": {},
   "outputs": [],
   "source": [
    "testloader = torch.utils.data.DataLoader(testx, batch_size=1)"
   ]
  },
  {
   "cell_type": "code",
   "execution_count": 62,
   "metadata": {},
   "outputs": [],
   "source": [
    "vae.eval()\n",
    "losses_t = []\n",
    "for i, data in enumerate(testloader):\n",
    "    test_loss = 0\n",
    "    data = (data.type(torch.FloatTensor)).to(device)\n",
    "#             data = (data.to(device)).astype(np.float32)\n",
    "    pars, mu, sigma = vae(data)\n",
    "    recon_loss = loss_function(data, pars, Nf_lognorm, Nf_binomial).mean()\n",
    "\n",
    "    losses_t.append(recon_loss)"
   ]
  },
  {
   "cell_type": "code",
   "execution_count": 63,
   "metadata": {},
   "outputs": [],
   "source": [
    "sig_losses_t = [losses_t[i] for i in range(len(testy[:len(losses_t)])) if testy[i]==1]\n",
    "bkg_losses_t = [losses_t[i] for i in range(len(testy[:len(losses_t)])) if testy[i]==0]"
   ]
  },
  {
   "cell_type": "code",
   "execution_count": 64,
   "metadata": {},
   "outputs": [],
   "source": [
    "bkg_losses_n = [x.cpu().detach().clone().numpy() for x in bkg_losses_t]\n",
    "sig_losses_n = [x.cpu().detach().clone().numpy() for x in sig_losses_t]"
   ]
  },
  {
   "cell_type": "code",
   "execution_count": 65,
   "metadata": {},
   "outputs": [],
   "source": [
    "bkg_losses_n = [x.tolist() for x in bkg_losses_n]\n",
    "sig_losses_n = [x.tolist() for x in sig_losses_n]"
   ]
  },
  {
   "cell_type": "code",
   "execution_count": 66,
   "metadata": {},
   "outputs": [],
   "source": [
    "histo_start = min(losses_t).cpu().detach().clone().numpy().tolist()\n",
    "histo_end = np.percentile(sig_losses_n, 90)"
   ]
  },
  {
   "cell_type": "code",
   "execution_count": 67,
   "metadata": {},
   "outputs": [],
   "source": [
    "bins = 100"
   ]
  },
  {
   "cell_type": "code",
   "execution_count": 68,
   "metadata": {},
   "outputs": [
    {
     "data": {
      "image/png": "[encoded data removed]",
      "text/plain": [
       "<Figure size 1152x432 with 1 Axes>"
      ]
     },
     "metadata": {
      "needs_background": "light"
     },
     "output_type": "display_data"
    }
   ],
   "source": [
    "histo_range = (histo_start, histo_end)\n",
    "f,a = plt.subplots(1,1, figsize=(16, 6))\n",
    "\n",
    "counts_b = torch.histc(torch.Tensor(bkg_losses_t), bins = bins, min = histo_range[0]\n",
    "                     , max = histo_range[1])\n",
    "bin_edges_b = torch.linspace(histo_range[0], histo_range[1], steps=bins)\n",
    "\n",
    "counts_s = torch.histc(torch.Tensor(sig_losses_t), bins = bins, min = histo_range[0]\n",
    "                     , max = histo_range[1])\n",
    "bin_edges_s = torch.linspace(histo_range[0], histo_range[1], steps=bins)\n",
    "\n",
    "\n",
    "a.step(x=bin_edges_b, y=counts_b, label = 'bkg')\n",
    "a.step(x=bin_edges_s, y=counts_s, label = 'sig')\n",
    "\n",
    "plt.tight_layout()"
   ]
  },
  {
   "cell_type": "code",
   "execution_count": 69,
   "metadata": {},
   "outputs": [],
   "source": [
    "from sklearn.metrics import f1_score, accuracy_score"
   ]
  },
  {
   "cell_type": "code",
   "execution_count": 70,
   "metadata": {},
   "outputs": [],
   "source": [
    "losses_n = [x.cpu().detach().clone().numpy() for x in losses_t]"
   ]
  },
  {
   "cell_type": "code",
   "execution_count": 71,
   "metadata": {},
   "outputs": [],
   "source": [
    "ths = np.linspace(histo_start, np.percentile(losses_n, 50), num = 10)"
   ]
  },
  {
   "cell_type": "code",
   "execution_count": 72,
   "metadata": {},
   "outputs": [],
   "source": [
    "f1_scores = []\n",
    "for th in ths:\n",
    "    predicted_label = np.array([1 if x >th else 0 for x in losses_n])\n",
    "    f1_scores.append(f1_score(testy, predicted_label))"
   ]
  },
  {
   "cell_type": "code",
   "execution_count": 73,
   "metadata": {},
   "outputs": [
    {
     "name": "stdout",
     "output_type": "stream",
     "text": [
      "0.9217819598617952\n"
     ]
    },
    {
     "data": {
      "image/png": "[encoded data removed]",
      "text/plain": [
       "<Figure size 1152x432 with 1 Axes>"
      ]
     },
     "metadata": {
      "needs_background": "light"
     },
     "output_type": "display_data"
    }
   ],
   "source": [
    "f,a = plt.subplots(1,1, figsize=(16, 6))\n",
    "a.plot(ths,f1_scores)\n",
    "print(max(f1_scores))"
   ]
  }
 ],
 "metadata": {
  "kernelspec": {
   "display_name": "Python 3",
   "language": "python",
   "name": "python3"
  },
  "language_info": {
   "codemirror_mode": {
    "name": "ipython",
    "version": 3
   },
   "file_extension": ".py",
   "mimetype": "text/x-python",
   "name": "python",
   "nbconvert_exporter": "python",
   "pygments_lexer": "ipython3",
   "version": "3.6.9"
  }
 },
 "nbformat": 4,
 "nbformat_minor": 4
}
